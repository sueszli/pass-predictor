{
 "cells": [
  {
   "cell_type": "code",
   "execution_count": 8,
   "metadata": {},
   "outputs": [
    {
     "name": "stdout",
     "output_type": "stream",
     "text": [
      "id\n",
      "idnumber\n",
      "firstaccess\n",
      "sex\n",
      "passed\n",
      "enrolled_courses\n",
      "\tid\n",
      "\tidnumber\n",
      "\tfullname\n",
      "\tenrolledusercount\n",
      "\tenablecompletion\n",
      "\tcompletionhascriteria\n",
      "\tcompletionusertracked\n",
      "\tprogress\n",
      "\tcompleted\n",
      "\tstartdate\n",
      "\tenddate\n",
      "\tmarker\n",
      "\tlastaccess\n",
      "grades\n",
      "\tquiz\n",
      "\t\tid\n",
      "\t\titemname\n",
      "\t\tidnumber\n",
      "\t\tgraderaw\n",
      "\t\tgrademin\n",
      "\t\tgrademax\n",
      "\t\tgradeformatted\n",
      "\tassign\n",
      "\t\tid\n",
      "\t\titemname\n",
      "\t\tidnumber\n",
      "\t\tgraderaw\n",
      "\t\tgrademin\n",
      "\t\tgrademax\n",
      "\t\tgradeformatted\n",
      "\tcheckmark\n",
      "\t\tid\n",
      "\t\titemname\n",
      "\t\tidnumber\n",
      "\t\tgraderaw\n",
      "\t\tgrademin\n",
      "\t\tgrademax\n",
      "\t\tgradeformatted\n",
      "\torganizer\n",
      "\t\tid\n",
      "\t\titemname\n",
      "\t\tidnumber\n",
      "\t\tgraderaw\n",
      "\t\tgrademin\n",
      "\t\tgrademax\n",
      "\t\tgradeformatted\n",
      "\tunknown\n",
      "\t\tid\n",
      "\t\titemname\n",
      "\t\tidnumber\n",
      "\t\tgraderaw\n",
      "\t\tgrademin\n",
      "\t\tgrademax\n",
      "\t\tgradeformatted\n"
     ]
    }
   ],
   "source": [
    "import json\n",
    "from pathlib import Path\n",
    "import glob\n",
    "\n",
    "datapath = Path.cwd().parent / \"data\"\n",
    "filepaths = glob.glob(str(datapath / \"*.json\"))\n",
    "assert all(Path(filepath).exists() for filepath in filepaths)\n",
    "\n",
    "def print_keys(d, indent=0):\n",
    "    for k, v in d.items():\n",
    "        print(\"\\t\" * indent + k)\n",
    "        if isinstance(v, dict):\n",
    "            print_keys(v, indent + 1)\n",
    "        elif isinstance(v, list):\n",
    "            print_keys(v[0], indent + 1)\n",
    "\n",
    "for fp in filepaths:\n",
    "    term = Path(fp).stem\n",
    "    term_data = json.loads(Path(fp).read_text())\n",
    "\n",
    "    for student in term_data:\n",
    "        print_keys(student)\n",
    "        break\n",
    "    break"
   ]
  },
  {
   "cell_type": "markdown",
   "metadata": {},
   "source": [
    "## 4 students are missing a matriculation number"
   ]
  },
  {
   "cell_type": "code",
   "execution_count": 2,
   "metadata": {},
   "outputs": [
    {
     "name": "stdout",
     "output_type": "stream",
     "text": [
      "student 99661 @ 2017W is missing: {'idnumber'} -> dict_values([99661, 1508766302, 'Female', False, [{'id': 11392, 'idnumber': '185A91-2017W', 'fullname': '185.A91 Einführung in die Programmierung 1 (VU 4,0) 2017W', 'enrolledusercount': 776, 'enablecompletion': False, 'completionhascriteria': False, 'completionusertracked': False, 'progress': None, 'completed': None, 'startdate': 1506981600, 'enddate': 1538517600, 'marker': 0, 'lastaccess': 1519901179}], {'quiz': [{'id': 86524, 'itemname': 'Einstufungstest', 'idnumber': '', 'graderaw': None, 'grademin': 0, 'grademax': 20, 'gradeformatted': '-'}, {'id': 89134, 'itemname': 'TUWEL-Test 1', 'idnumber': '', 'graderaw': None, 'grademin': 0, 'grademax': 10, 'gradeformatted': '-'}, {'id': 89137, 'itemname': 'TUWEL-Test 2', 'idnumber': None, 'graderaw': None, 'grademin': 0, 'grademax': 10, 'gradeformatted': '-'}, {'id': 89140, 'itemname': 'TUWEL-Test 3', 'idnumber': None, 'graderaw': None, 'grademin': 0, 'grademax': 10, 'gradeformatted': '-'}, {'id': 89143, 'itemname': 'TUWEL-Test 1', 'idnumber': None, 'graderaw': None, 'grademin': 0, 'grademax': 30, 'gradeformatted': '-'}], 'assign': [{'id': 89068, 'itemname': 'Freies Ueben 1', 'idnumber': 'fue1', 'graderaw': None, 'grademin': 0, 'grademax': 1, 'gradeformatted': '-'}, {'id': 89071, 'itemname': 'Freies Ueben 2', 'idnumber': 'fue2', 'graderaw': None, 'grademin': 0, 'grademax': 1, 'gradeformatted': '-'}, {'id': 88876, 'itemname': 'Hochladen Aufgabenblatt 1', 'idnumber': 't1_k1', 'graderaw': None, 'grademin': 0, 'grademax': 100, 'gradeformatted': '-'}, {'id': 88972, 'itemname': 'Hochladen Aufgabenblatt 2', 'idnumber': 't2_k1', 'graderaw': None, 'grademin': 0, 'grademax': 100, 'gradeformatted': '-'}, {'id': 89002, 'itemname': 'Hochladen Aufgabenblatt 3', 'idnumber': 't3_k1', 'graderaw': None, 'grademin': 0, 'grademax': 100, 'gradeformatted': '-'}, {'id': 89008, 'itemname': 'Hochladen Aufgabenblatt 4', 'idnumber': 't4_k1', 'graderaw': None, 'grademin': 0, 'grademax': 100, 'gradeformatted': '-'}, {'id': 89005, 'itemname': 'Hochladen Aufgabenblatt 5', 'idnumber': 't5_k1', 'graderaw': None, 'grademin': 0, 'grademax': 100, 'gradeformatted': '-'}, {'id': 89011, 'itemname': 'Hochladen Aufgabenblatt 6', 'idnumber': 't6_k1', 'graderaw': None, 'grademin': 0, 'grademax': 100, 'gradeformatted': '-'}, {'id': 89074, 'itemname': 'Hochladen Aufgabenblatt 1', 'idnumber': 't1_k2', 'graderaw': None, 'grademin': 0, 'grademax': 100, 'gradeformatted': '-'}, {'id': 89077, 'itemname': 'Hochladen Aufgabenblatt 2', 'idnumber': 't2_k2', 'graderaw': None, 'grademin': 0, 'grademax': 100, 'gradeformatted': '-'}, {'id': 89080, 'itemname': 'Hochladen Aufgabenblatt 3', 'idnumber': 't3_k2', 'graderaw': None, 'grademin': 0, 'grademax': 100, 'gradeformatted': '-'}, {'id': 89101, 'itemname': 'Ad-hoc-Aufgabe 1', 'idnumber': 'ah1_k1', 'graderaw': None, 'grademin': 0, 'grademax': 10, 'gradeformatted': '-'}, {'id': 89104, 'itemname': 'Ad-hoc-Aufgabe 2', 'idnumber': 'ah2_k1', 'graderaw': None, 'grademin': 0, 'grademax': 15, 'gradeformatted': '-'}, {'id': 89107, 'itemname': 'Ad-hoc-Aufgabe 3', 'idnumber': 'ah3_k1', 'graderaw': None, 'grademin': 0, 'grademax': 15, 'gradeformatted': '-'}, {'id': 89110, 'itemname': 'Ad-hoc-Aufgabe 1', 'idnumber': 'ah1_k2', 'graderaw': None, 'grademin': 0, 'grademax': 20, 'gradeformatted': '-'}, {'id': 89113, 'itemname': 'Ad-hoc-Aufgabe 2', 'idnumber': 'ah2_k2', 'graderaw': None, 'grademin': 0, 'grademax': 20, 'gradeformatted': '-'}, {'id': 88831, 'itemname': 'Praktischer Test', 'idnumber': '', 'graderaw': None, 'grademin': 0, 'grademax': 100, 'gradeformatted': '-'}, {'id': 88834, 'itemname': 'Nachtragstest', 'idnumber': '', 'graderaw': None, 'grademin': 0, 'grademax': 100, 'gradeformatted': '-'}], 'checkmark': [{'id': 88822, 'itemname': 'Ankreuzen Aufgabenblatt 1', 'idnumber': 'k1_k1', 'graderaw': None, 'grademin': 0, 'grademax': 4, 'gradeformatted': '-'}, {'id': 88966, 'itemname': 'Ankreuzen Aufgabenblatt 2', 'idnumber': 'k2_k1', 'graderaw': None, 'grademin': 0, 'grademax': 4, 'gradeformatted': '-'}, {'id': 88999, 'itemname': 'Ankreuzen Aufgabenblatt 3', 'idnumber': 'k3_k1', 'graderaw': None, 'grademin': 0, 'grademax': 5, 'gradeformatted': '-'}, {'id': 89059, 'itemname': 'Ankreuzen Aufgabenblatt 4', 'idnumber': 'k4_k1', 'graderaw': None, 'grademin': 0, 'grademax': 5, 'gradeformatted': '-'}, {'id': 89062, 'itemname': 'Ankreuzen Aufgabenblatt 5', 'idnumber': 'k5_k1', 'graderaw': None, 'grademin': 0, 'grademax': 5, 'gradeformatted': '-'}, {'id': 89065, 'itemname': 'Ankreuzen Aufgabenblatt 6', 'idnumber': 'k6_k1', 'graderaw': None, 'grademin': 0, 'grademax': 5, 'gradeformatted': '-'}, {'id': 89083, 'itemname': 'Ankreuzen Aufgabenblatt 1', 'idnumber': 'k1_k2', 'graderaw': None, 'grademin': 0, 'grademax': 10, 'gradeformatted': '-'}, {'id': 89086, 'itemname': 'Ankreuzen Aufgabenblatt 2', 'idnumber': 'k2_k2', 'graderaw': None, 'grademin': 0, 'grademax': 10, 'gradeformatted': '-'}, {'id': 89089, 'itemname': 'Ankreuzen Aufgabenblatt 3', 'idnumber': 'k3_k2', 'graderaw': None, 'grademin': 0, 'grademax': 10, 'gradeformatted': '-'}, {'id': 96928, 'itemname': 'Freies Ueben 1 (Kreuzerl)', 'idnumber': '', 'graderaw': None, 'grademin': 0, 'grademax': 1, 'gradeformatted': '-'}], 'organizer': [{'id': 104348, 'itemname': 'Einsichtnahme (Praktischer Test)', 'idnumber': '', 'graderaw': None, 'grademin': 0, 'grademax': 1, 'gradeformatted': '-'}, {'id': 105884, 'itemname': 'Einsichtnahme (Nachtragstest)', 'idnumber': '', 'graderaw': None, 'grademin': 0, 'grademax': 10, 'gradeformatted': '-'}], 'unknown': [{'id': 88837, 'itemname': '', 'idnumber': '', 'graderaw': 0, 'grademin': 0, 'grademax': 20, 'gradeformatted': '0.00'}, {'id': 88873, 'itemname': '', 'idnumber': 'ue1_k1', 'graderaw': None, 'grademin': 0, 'grademax': 4, 'gradeformatted': '-'}, {'id': 88975, 'itemname': '', 'idnumber': 'ue2_k1', 'graderaw': None, 'grademin': 0, 'grademax': 4, 'gradeformatted': '-'}, {'id': 88978, 'itemname': '', 'idnumber': 'ue3_k1', 'graderaw': None, 'grademin': 0, 'grademax': 5, 'gradeformatted': '-'}, {'id': 88981, 'itemname': '', 'idnumber': 'ue4_k1', 'graderaw': None, 'grademin': 0, 'grademax': 5, 'gradeformatted': '-'}, {'id': 88984, 'itemname': '', 'idnumber': 'ue5_k1', 'graderaw': None, 'grademin': 0, 'grademax': 5, 'gradeformatted': '-'}, {'id': 88987, 'itemname': '', 'idnumber': 'ue6_k1', 'graderaw': None, 'grademin': 0, 'grademax': 5, 'gradeformatted': '-'}, {'id': 89122, 'itemname': '', 'idnumber': '', 'graderaw': 0, 'grademin': 0, 'grademax': 30, 'gradeformatted': '0.00'}, {'id': 88990, 'itemname': '', 'idnumber': 'ue1_k2', 'graderaw': None, 'grademin': 0, 'grademax': 10, 'gradeformatted': '-'}, {'id': 88993, 'itemname': '', 'idnumber': 'ue2_k2', 'graderaw': None, 'grademin': 0, 'grademax': 10, 'gradeformatted': '-'}, {'id': 88996, 'itemname': '', 'idnumber': 'ue3_k2', 'graderaw': None, 'grademin': 0, 'grademax': 10, 'gradeformatted': '-'}, {'id': 89125, 'itemname': '', 'idnumber': '', 'graderaw': 0, 'grademin': 0, 'grademax': 30, 'gradeformatted': '0.00'}, {'id': 88825, 'itemname': '', 'idnumber': '', 'graderaw': 0, 'grademin': 0, 'grademax': 30, 'gradeformatted': '0.00'}, {'id': 89116, 'itemname': '', 'idnumber': '', 'graderaw': 0, 'grademin': 0, 'grademax': 40, 'gradeformatted': '0.00'}, {'id': 89119, 'itemname': '', 'idnumber': '', 'graderaw': 0, 'grademin': 0, 'grademax': 40, 'gradeformatted': '0.00'}, {'id': 88867, 'itemname': '', 'idnumber': '', 'graderaw': 0, 'grademin': 0, 'grademax': 40, 'gradeformatted': '0.00'}, {'id': 89128, 'itemname': '', 'idnumber': '', 'graderaw': 0, 'grademin': 0, 'grademax': 30, 'gradeformatted': '0.00'}, {'id': 89131, 'itemname': '', 'idnumber': '', 'graderaw': 0, 'grademin': 0, 'grademax': 30, 'gradeformatted': '0.00'}, {'id': 88870, 'itemname': '', 'idnumber': '', 'graderaw': 0, 'grademin': 0, 'grademax': 30, 'gradeformatted': '0.00'}, {'id': 88864, 'itemname': '', 'idnumber': 'uebung', 'graderaw': 0, 'grademin': 0, 'grademax': 100, 'gradeformatted': '<i class=\"icon fa fa-times text-danger fa-fw inline\"  title=\"Fail\" role=\"img\" aria-label=\"Fail\"></i>0.00'}, {'id': 88828, 'itemname': '', 'idnumber': 'tests', 'graderaw': None, 'grademin': 0, 'grademax': 100, 'gradeformatted': '-'}, {'id': 86509, 'itemname': '', 'idnumber': '', 'graderaw': 0, 'grademin': 0, 'grademax': 200, 'gradeformatted': '<i class=\"icon fa fa-times text-danger fa-fw inline\"  title=\"Fail\" role=\"img\" aria-label=\"Fail\"></i>0.00 (N5)'}]}])\n",
      "student 118006 @ 2021S is missing: {'idnumber'} -> dict_values([118006, 1551263902, 'Female', False, [{'id': 38162, 'idnumber': '184783-2021S', 'fullname': '184.783 Introduction to Security (VU 2,0) 2021S', 'enrolledusercount': 300, 'enablecompletion': False, 'completionhascriteria': False, 'completionusertracked': False, 'progress': None, 'completed': None, 'startdate': 1614639600, 'enddate': 0, 'marker': 0, 'lastaccess': None}, {'id': 36025, 'idnumber': '185A91-2021S', 'fullname': '185.A91 Einführung in die Programmierung 1 (VU 4,0) 2021S', 'enrolledusercount': 199, 'enablecompletion': False, 'completionhascriteria': False, 'completionusertracked': False, 'progress': None, 'completed': None, 'startdate': 1613948400, 'enddate': 0, 'marker': 0, 'lastaccess': 1689081895}, {'id': 40257, 'idnumber': '185A91-2021W', 'fullname': '185.A91 Einführung in die Programmierung 1 (VU 4,0) 2021W', 'enrolledusercount': 714, 'enablecompletion': False, 'completionhascriteria': False, 'completionusertracked': False, 'progress': None, 'completed': None, 'startdate': 1631613600, 'enddate': 0, 'marker': 0, 'lastaccess': 1692780148}, {'id': 48994, 'idnumber': '185A91-2022W', 'fullname': '185.A91 Einführung in die Programmierung 1 (VU 4,0) 2022W', 'enrolledusercount': 725, 'enablecompletion': False, 'completionhascriteria': False, 'completionusertracked': False, 'progress': None, 'completed': None, 'startdate': 1663653600, 'enddate': 0, 'marker': 0, 'lastaccess': 1720016836}, {'id': 58283, 'idnumber': '185A91-2023W', 'fullname': '185.A91 Einführung in die Programmierung 1 (VU 4,0) 2023W', 'enrolledusercount': 707, 'enablecompletion': True, 'completionhascriteria': False, 'completionusertracked': False, 'progress': None, 'completed': False, 'startdate': 1695139200, 'enddate': 0, 'marker': 1, 'lastaccess': 1719851610}, {'id': 35953, 'idnumber': '185A92-2021S', 'fullname': '185.A92 Einführung in die Programmierung 2 (VU 3,0) 2021S', 'enrolledusercount': 815, 'enablecompletion': False, 'completionhascriteria': False, 'completionusertracked': False, 'progress': None, 'completed': None, 'startdate': 1613379600, 'enddate': 0, 'marker': 0, 'lastaccess': None}, {'id': 540, 'idnumber': 'tuweltutorials', 'fullname': 'TUWEL Tutorials', 'enrolledusercount': 11690, 'enablecompletion': False, 'completionhascriteria': False, 'completionusertracked': False, 'progress': None, 'completed': None, 'startdate': 1719784800, 'enddate': 2548188000, 'marker': 0, 'lastaccess': None}], {'assign': [{'id': 268963, 'itemname': 'Einstufungstest', 'idnumber': 'einstufungstest', 'graderaw': None, 'grademin': 0, 'grademax': 25, 'gradeformatted': '-'}, {'id': 268966, 'itemname': 'Freies Ueben 1', 'idnumber': 'fue1', 'graderaw': None, 'grademin': 0, 'grademax': 1, 'gradeformatted': '-'}, {'id': 268969, 'itemname': 'Freies Ueben 2', 'idnumber': 'fue2', 'graderaw': None, 'grademin': 0, 'grademax': 2, 'gradeformatted': '-'}, {'id': 269056, 'itemname': 'Programmiertest 28.06.', 'idnumber': 'pt', 'graderaw': None, 'grademin': 0, 'grademax': 30, 'gradeformatted': '-'}, {'id': 269059, 'itemname': 'Programmiertest 12.07.', 'idnumber': '', 'graderaw': None, 'grademin': 0, 'grademax': 30, 'gradeformatted': '-'}, {'id': 274904, 'itemname': 'Mitarbeitspunkte', 'idnumber': 'ma', 'graderaw': None, 'grademin': 0, 'grademax': 5, 'gradeformatted': '-'}], 'checkmark': [{'id': 268975, 'itemname': 'Ankreuzen Aufgabenblatt 1', 'idnumber': 'k1', 'graderaw': None, 'grademin': 0, 'grademax': 6, 'gradeformatted': '-'}, {'id': 268981, 'itemname': 'Anwesenheit Ankreuzen Aufgabenblatt 1', 'idnumber': 'AAk1', 'graderaw': None, 'grademin': 0, 'grademax': 1, 'gradeformatted': '-'}, {'id': 268978, 'itemname': 'TL Ankreuzen Aufgabenblatt 1', 'idnumber': 'TLk1', 'graderaw': None, 'grademin': 0, 'grademax': 100, 'gradeformatted': '-'}, {'id': 268987, 'itemname': 'Ankreuzen Aufgabenblatt 2', 'idnumber': 'k2', 'graderaw': None, 'grademin': 0, 'grademax': 6, 'gradeformatted': '-'}, {'id': 268993, 'itemname': 'Anwesenheit Ankreuzen Aufgabenblatt 2', 'idnumber': 'AAk2', 'graderaw': None, 'grademin': 0, 'grademax': 1, 'gradeformatted': '-'}, {'id': 268990, 'itemname': 'TL Ankreuzen Aufgabenblatt 2', 'idnumber': 'TLk2', 'graderaw': None, 'grademin': 0, 'grademax': 100, 'gradeformatted': '-'}, {'id': 268999, 'itemname': 'Ankreuzen Aufgabenblatt 3', 'idnumber': 'k3', 'graderaw': None, 'grademin': 0, 'grademax': 6, 'gradeformatted': '-'}, {'id': 269005, 'itemname': 'Anwesenheit Ankreuzen Aufgabenblatt 3', 'idnumber': 'AAk3', 'graderaw': None, 'grademin': 0, 'grademax': 1, 'gradeformatted': '-'}, {'id': 269002, 'itemname': 'TL Ankreuzen Aufgabenblatt 3', 'idnumber': 'TLk3', 'graderaw': None, 'grademin': 0, 'grademax': 100, 'gradeformatted': '-'}, {'id': 269011, 'itemname': 'Ankreuzen Aufgabenblatt 4', 'idnumber': 'k4', 'graderaw': None, 'grademin': 0, 'grademax': 6, 'gradeformatted': '-'}, {'id': 269017, 'itemname': 'Anwesenheit Ankreuzen Aufgabenblatt 4', 'idnumber': 'AAk4', 'graderaw': None, 'grademin': 0, 'grademax': 1, 'gradeformatted': '-'}, {'id': 269014, 'itemname': 'TL Ankreuzen Aufgabenblatt 4', 'idnumber': 'TLk4', 'graderaw': None, 'grademin': 0, 'grademax': 100, 'gradeformatted': '-'}, {'id': 269023, 'itemname': 'Ankreuzen Aufgabenblatt 5', 'idnumber': 'k5', 'graderaw': None, 'grademin': 0, 'grademax': 6, 'gradeformatted': '-'}, {'id': 269029, 'itemname': 'Anwesenheit Ankreuzen Aufgabenblatt 5', 'idnumber': 'AAk5', 'graderaw': None, 'grademin': 0, 'grademax': 1, 'gradeformatted': '-'}, {'id': 269026, 'itemname': 'TL Ankreuzen Aufgabenblatt 5', 'idnumber': 'TLk5', 'graderaw': None, 'grademin': 0, 'grademax': 100, 'gradeformatted': '-'}, {'id': 269035, 'itemname': 'Ankreuzen Aufgabenblatt 6', 'idnumber': 'k6', 'graderaw': None, 'grademin': 0, 'grademax': 7, 'gradeformatted': '-'}, {'id': 269041, 'itemname': 'Anwesenheit Ankreuzen Aufgabenblatt 6', 'idnumber': 'AAk6', 'graderaw': None, 'grademin': 0, 'grademax': 1, 'gradeformatted': '-'}, {'id': 269038, 'itemname': 'TL Ankreuzen Aufgabenblatt 6', 'idnumber': 'TLk6', 'graderaw': None, 'grademin': 0, 'grademax': 100, 'gradeformatted': '-'}], 'quiz': [{'id': 274004, 'itemname': '1. TUWEL-Test (03.05.)', 'idnumber': None, 'graderaw': None, 'grademin': 0, 'grademax': 10, 'gradeformatted': '-'}, {'id': 274022, 'itemname': '1. TUWEL-Test (10.05.)', 'idnumber': None, 'graderaw': None, 'grademin': 0, 'grademax': 10, 'gradeformatted': '-'}, {'id': 269092, 'itemname': '2. TUWEL-Test (14.06.)', 'idnumber': 'tt', 'graderaw': None, 'grademin': 0, 'grademax': 20, 'gradeformatted': '-'}, {'id': 271767, 'itemname': '2. TUWEL-Test (21.06.)', 'idnumber': None, 'graderaw': None, 'grademin': 0, 'grademax': 20, 'gradeformatted': '-'}], 'unknown': [{'id': 269098, 'itemname': '', 'idnumber': 'sumtest', 'graderaw': None, 'grademin': 0, 'grademax': 25, 'gradeformatted': '-'}, {'id': 269104, 'itemname': '', 'idnumber': '', 'graderaw': None, 'grademin': 0, 'grademax': 6, 'gradeformatted': '-'}, {'id': 269107, 'itemname': '', 'idnumber': '', 'graderaw': None, 'grademin': 0, 'grademax': 6, 'gradeformatted': '-'}, {'id': 269110, 'itemname': '', 'idnumber': '', 'graderaw': None, 'grademin': 0, 'grademax': 6, 'gradeformatted': '-'}, {'id': 269113, 'itemname': '', 'idnumber': '', 'graderaw': None, 'grademin': 0, 'grademax': 6, 'gradeformatted': '-'}, {'id': 269116, 'itemname': '', 'idnumber': '', 'graderaw': None, 'grademin': 0, 'grademax': 6, 'gradeformatted': '-'}, {'id': 269119, 'itemname': '', 'idnumber': '', 'graderaw': None, 'grademin': 0, 'grademax': 7, 'gradeformatted': '-'}, {'id': 274175, 'itemname': '', 'idnumber': '', 'graderaw': 0, 'grademin': 0, 'grademax': 10, 'gradeformatted': '0.00'}, {'id': 269128, 'itemname': '', 'idnumber': '', 'graderaw': 0, 'grademin': 0, 'grademax': 20, 'gradeformatted': '0.00'}, {'id': 269125, 'itemname': '', 'idnumber': '', 'graderaw': None, 'grademin': 0, 'grademax': 30, 'gradeformatted': '-'}, {'id': 269101, 'itemname': '', 'idnumber': 'sumue', 'graderaw': 0, 'grademin': 0, 'grademax': 100, 'gradeformatted': '0.00'}, {'id': 268957, 'itemname': '', 'idnumber': '', 'graderaw': 0, 'grademin': 0, 'grademax': 100, 'gradeformatted': '0.00 (-)'}]}])\n",
      "student 163563 @ 2021W is missing: {'idnumber'} -> dict_values([163563, 1633431834, 'Male', False, [{'id': 40257, 'idnumber': '185A91-2021W', 'fullname': '185.A91 Einführung in die Programmierung 1 (VU 4,0) 2021W', 'enrolledusercount': 714, 'enablecompletion': False, 'completionhascriteria': False, 'completionusertracked': False, 'progress': None, 'completed': None, 'startdate': 1631613600, 'enddate': 0, 'marker': 0, 'lastaccess': 1648716935}], {'assign': [{'id': 311904, 'itemname': 'Einstufungstest Kompetenzstufe 2', 'idnumber': 'einstufungstest_k2', 'graderaw': None, 'grademin': 0, 'grademax': 25, 'gradeformatted': '-'}, {'id': 312078, 'itemname': 'Programmiertest Kompetenzstufe 3', 'idnumber': 'programmiertest_k3', 'graderaw': None, 'grademin': 0, 'grademax': 60, 'gradeformatted': '-'}, {'id': 311910, 'itemname': 'Ueben 1', 'idnumber': 'fue1', 'graderaw': None, 'grademin': 0, 'grademax': 1, 'gradeformatted': '-'}, {'id': 311913, 'itemname': 'Ueben 2', 'idnumber': 'fue2', 'graderaw': None, 'grademin': 0, 'grademax': 1, 'gradeformatted': '-'}, {'id': 312036, 'itemname': 'Programmiertest 27.01.', 'idnumber': 'pt', 'graderaw': None, 'grademin': 0, 'grademax': 30, 'gradeformatted': '-'}, {'id': 312039, 'itemname': 'Programmiertest 10.02.', 'idnumber': '', 'graderaw': None, 'grademin': 0, 'grademax': 30, 'gradeformatted': '-'}, {'id': 311907, 'itemname': 'Mitarbeitspunkte', 'idnumber': 'ma', 'graderaw': None, 'grademin': 0, 'grademax': 5, 'gradeformatted': '-'}], 'quiz': [{'id': 333369, 'itemname': 'TUWEL-Test Kompetenzstufe 3', 'idnumber': 'tuwel_test_k3', 'graderaw': None, 'grademin': 0, 'grademax': 40, 'gradeformatted': '-'}, {'id': 312024, 'itemname': '1. TUWEL-Test (26.11., A)', 'idnumber': None, 'graderaw': None, 'grademin': 0, 'grademax': 10, 'gradeformatted': '-'}, {'id': 344346, 'itemname': '1. TUWEL-Test (26.11., B)', 'idnumber': None, 'graderaw': None, 'grademin': 0, 'grademax': 10, 'gradeformatted': '-'}, {'id': 344370, 'itemname': '1. TUWEL-Test (26.11., C)', 'idnumber': None, 'graderaw': None, 'grademin': 0, 'grademax': 10, 'gradeformatted': '-'}, {'id': 344376, 'itemname': '1. TUWEL-Test (26.11., D)', 'idnumber': None, 'graderaw': None, 'grademin': 0, 'grademax': 10, 'gradeformatted': '-'}, {'id': 312027, 'itemname': '1. TUWEL-Test (03.12., A)', 'idnumber': None, 'graderaw': None, 'grademin': 0, 'grademax': 10, 'gradeformatted': '-'}, {'id': 312030, 'itemname': '2. TUWEL-Test (13.01. A)', 'idnumber': 'tt', 'graderaw': None, 'grademin': 0, 'grademax': 20, 'gradeformatted': '-'}, {'id': 351319, 'itemname': '2. TUWEL-Test (13.01. B)', 'idnumber': None, 'graderaw': None, 'grademin': 0, 'grademax': 20, 'gradeformatted': '-'}, {'id': 312033, 'itemname': '2. TUWEL-Test (20.01. A)', 'idnumber': None, 'graderaw': None, 'grademin': 0, 'grademax': 20, 'gradeformatted': '-'}, {'id': 353983, 'itemname': '2. TUWEL-Test (20.01. B)', 'idnumber': None, 'graderaw': None, 'grademin': 0, 'grademax': 20, 'gradeformatted': '-'}], 'checkmark': [{'id': 311919, 'itemname': 'Ankreuzen Aufgabenblatt 1', 'idnumber': 'k1', 'graderaw': None, 'grademin': 0, 'grademax': 5, 'gradeformatted': '-'}, {'id': 311925, 'itemname': 'Anwesenheit Ankreuzen Aufgabenblatt 1', 'idnumber': 'AAk1', 'graderaw': None, 'grademin': 0, 'grademax': 1, 'gradeformatted': '-'}, {'id': 311922, 'itemname': 'TL Ankreuzen Aufgabenblatt 1', 'idnumber': 'TLk1', 'graderaw': None, 'grademin': 0, 'grademax': 100, 'gradeformatted': '-'}, {'id': 311931, 'itemname': 'Ankreuzen Aufgabenblatt 2', 'idnumber': 'k2', 'graderaw': None, 'grademin': 0, 'grademax': 6, 'gradeformatted': '-'}, {'id': 311937, 'itemname': 'Anwesenheit Ankreuzen Aufgabenblatt 2', 'idnumber': 'AAk2', 'graderaw': None, 'grademin': 0, 'grademax': 1, 'gradeformatted': '-'}, {'id': 311934, 'itemname': 'TL Ankreuzen Aufgabenblatt 2', 'idnumber': 'TLk2', 'graderaw': None, 'grademin': 0, 'grademax': 100, 'gradeformatted': '-'}, {'id': 333357, 'itemname': 'Ankreuzen Designaufgabe', 'idnumber': 'd1', 'graderaw': None, 'grademin': 0, 'grademax': 2, 'gradeformatted': '-'}, {'id': 311943, 'itemname': 'Ankreuzen Aufgabenblatt 3', 'idnumber': 'k3', 'graderaw': None, 'grademin': 0, 'grademax': 6, 'gradeformatted': '-'}, {'id': 311949, 'itemname': 'Anwesenheit Ankreuzen Aufgabenblatt 3', 'idnumber': 'AAk3', 'graderaw': None, 'grademin': 0, 'grademax': 1, 'gradeformatted': '-'}, {'id': 311946, 'itemname': 'TL Ankreuzen Aufgabenblatt 3', 'idnumber': 'TLk3', 'graderaw': None, 'grademin': 0, 'grademax': 100, 'gradeformatted': '-'}, {'id': 311955, 'itemname': 'Ankreuzen Aufgabenblatt 4', 'idnumber': 'k4', 'graderaw': None, 'grademin': 0, 'grademax': 6, 'gradeformatted': '-'}, {'id': 311961, 'itemname': 'Anwesenheit Ankreuzen Aufgabenblatt 4', 'idnumber': 'AAk4', 'graderaw': None, 'grademin': 0, 'grademax': 1, 'gradeformatted': '-'}, {'id': 311958, 'itemname': 'TL Ankreuzen Aufgabenblatt 4', 'idnumber': 'TLk4', 'graderaw': None, 'grademin': 0, 'grademax': 100, 'gradeformatted': '-'}, {'id': 311967, 'itemname': 'Ankreuzen Aufgabenblatt 5', 'idnumber': 'k5', 'graderaw': None, 'grademin': 0, 'grademax': 6, 'gradeformatted': '-'}, {'id': 311973, 'itemname': 'Anwesenheit Ankreuzen Aufgabenblatt 5', 'idnumber': 'AAk5', 'graderaw': None, 'grademin': 0, 'grademax': 1, 'gradeformatted': '-'}, {'id': 311970, 'itemname': 'TL Ankreuzen Aufgabenblatt 5', 'idnumber': 'TLk5', 'graderaw': None, 'grademin': 0, 'grademax': 100, 'gradeformatted': '-'}, {'id': 311979, 'itemname': 'Ankreuzen Aufgabenblatt 6', 'idnumber': 'k6', 'graderaw': None, 'grademin': 0, 'grademax': 7, 'gradeformatted': '-'}, {'id': 311985, 'itemname': 'Anwesenheit Ankreuzen Aufgabenblatt 6', 'idnumber': 'AAk6', 'graderaw': None, 'grademin': 0, 'grademax': 1, 'gradeformatted': '-'}, {'id': 311982, 'itemname': 'TL Ankreuzen Aufgabenblatt 6', 'idnumber': 'TLk6', 'graderaw': None, 'grademin': 0, 'grademax': 100, 'gradeformatted': '-'}], 'unknown': [{'id': 312042, 'itemname': '', 'idnumber': 'sumtest_k2', 'graderaw': None, 'grademin': 0, 'grademax': 25, 'gradeformatted': '-'}, {'id': 333366, 'itemname': '', 'idnumber': 'sumtest_k3', 'graderaw': None, 'grademin': 0, 'grademax': 100, 'gradeformatted': '-'}, {'id': 312048, 'itemname': '', 'idnumber': '', 'graderaw': None, 'grademin': 0, 'grademax': 5, 'gradeformatted': '-'}, {'id': 312051, 'itemname': '', 'idnumber': '', 'graderaw': None, 'grademin': 0, 'grademax': 6, 'gradeformatted': '-'}, {'id': 333363, 'itemname': '', 'idnumber': '', 'graderaw': None, 'grademin': 0, 'grademax': 2, 'gradeformatted': '-'}, {'id': 312054, 'itemname': '', 'idnumber': '', 'graderaw': None, 'grademin': 0, 'grademax': 6, 'gradeformatted': '-'}, {'id': 312057, 'itemname': '', 'idnumber': '', 'graderaw': None, 'grademin': 0, 'grademax': 6, 'gradeformatted': '-'}, {'id': 312060, 'itemname': '', 'idnumber': '', 'graderaw': None, 'grademin': 0, 'grademax': 6, 'gradeformatted': '-'}, {'id': 312063, 'itemname': '', 'idnumber': '', 'graderaw': None, 'grademin': 0, 'grademax': 7, 'gradeformatted': '-'}, {'id': 312072, 'itemname': '', 'idnumber': '', 'graderaw': 0, 'grademin': 0, 'grademax': 10, 'gradeformatted': '0.00'}, {'id': 312069, 'itemname': '', 'idnumber': '', 'graderaw': 0, 'grademin': 0, 'grademax': 20, 'gradeformatted': '0.00'}, {'id': 312066, 'itemname': '', 'idnumber': '', 'graderaw': 0, 'grademin': 0, 'grademax': 30, 'gradeformatted': '0.00'}, {'id': 312045, 'itemname': '', 'idnumber': 'sumue', 'graderaw': 0, 'grademin': 0, 'grademax': 100, 'gradeformatted': '0.00'}, {'id': 311898, 'itemname': '', 'idnumber': '', 'graderaw': 0, 'grademin': 0, 'grademax': 100, 'gradeformatted': '0.00 (-)'}]}])\n",
      "student 164049 @ 2021W is missing: {'idnumber'} -> dict_values([164049, 1634237448, 'Male', False, [{'id': 40170, 'idnumber': '184686-2021W', 'fullname': '184.686 Datenbanksysteme / 184.685 Datenmodellierung / 184.790 Datenmodellierung 2 ', 'enrolledusercount': 670, 'enablecompletion': False, 'completionhascriteria': False, 'completionusertracked': False, 'progress': None, 'completed': None, 'startdate': 1633212000, 'enddate': 1664798100, 'marker': 0, 'lastaccess': None}, {'id': 40257, 'idnumber': '185A91-2021W', 'fullname': '185.A91 Einführung in die Programmierung 1 (VU 4,0) 2021W', 'enrolledusercount': 714, 'enablecompletion': False, 'completionhascriteria': False, 'completionusertracked': False, 'progress': None, 'completed': None, 'startdate': 1631613600, 'enddate': 0, 'marker': 0, 'lastaccess': 1636484041}], {'assign': [{'id': 311904, 'itemname': 'Einstufungstest Kompetenzstufe 2', 'idnumber': 'einstufungstest_k2', 'graderaw': None, 'grademin': 0, 'grademax': 25, 'gradeformatted': '-'}, {'id': 312078, 'itemname': 'Programmiertest Kompetenzstufe 3', 'idnumber': 'programmiertest_k3', 'graderaw': None, 'grademin': 0, 'grademax': 60, 'gradeformatted': '-'}, {'id': 311910, 'itemname': 'Ueben 1', 'idnumber': 'fue1', 'graderaw': None, 'grademin': 0, 'grademax': 1, 'gradeformatted': '-'}, {'id': 311913, 'itemname': 'Ueben 2', 'idnumber': 'fue2', 'graderaw': None, 'grademin': 0, 'grademax': 1, 'gradeformatted': '-'}, {'id': 312036, 'itemname': 'Programmiertest 27.01.', 'idnumber': 'pt', 'graderaw': None, 'grademin': 0, 'grademax': 30, 'gradeformatted': '-'}, {'id': 312039, 'itemname': 'Programmiertest 10.02.', 'idnumber': '', 'graderaw': None, 'grademin': 0, 'grademax': 30, 'gradeformatted': '-'}, {'id': 311907, 'itemname': 'Mitarbeitspunkte', 'idnumber': 'ma', 'graderaw': None, 'grademin': 0, 'grademax': 5, 'gradeformatted': '-'}], 'quiz': [{'id': 333369, 'itemname': 'TUWEL-Test Kompetenzstufe 3', 'idnumber': 'tuwel_test_k3', 'graderaw': None, 'grademin': 0, 'grademax': 40, 'gradeformatted': '-'}, {'id': 312024, 'itemname': '1. TUWEL-Test (26.11., A)', 'idnumber': None, 'graderaw': None, 'grademin': 0, 'grademax': 10, 'gradeformatted': '-'}, {'id': 344346, 'itemname': '1. TUWEL-Test (26.11., B)', 'idnumber': None, 'graderaw': None, 'grademin': 0, 'grademax': 10, 'gradeformatted': '-'}, {'id': 344370, 'itemname': '1. TUWEL-Test (26.11., C)', 'idnumber': None, 'graderaw': None, 'grademin': 0, 'grademax': 10, 'gradeformatted': '-'}, {'id': 344376, 'itemname': '1. TUWEL-Test (26.11., D)', 'idnumber': None, 'graderaw': None, 'grademin': 0, 'grademax': 10, 'gradeformatted': '-'}, {'id': 312027, 'itemname': '1. TUWEL-Test (03.12., A)', 'idnumber': None, 'graderaw': None, 'grademin': 0, 'grademax': 10, 'gradeformatted': '-'}, {'id': 312030, 'itemname': '2. TUWEL-Test (13.01. A)', 'idnumber': 'tt', 'graderaw': None, 'grademin': 0, 'grademax': 20, 'gradeformatted': '-'}, {'id': 351319, 'itemname': '2. TUWEL-Test (13.01. B)', 'idnumber': None, 'graderaw': None, 'grademin': 0, 'grademax': 20, 'gradeformatted': '-'}, {'id': 312033, 'itemname': '2. TUWEL-Test (20.01. A)', 'idnumber': None, 'graderaw': None, 'grademin': 0, 'grademax': 20, 'gradeformatted': '-'}, {'id': 353983, 'itemname': '2. TUWEL-Test (20.01. B)', 'idnumber': None, 'graderaw': None, 'grademin': 0, 'grademax': 20, 'gradeformatted': '-'}], 'checkmark': [{'id': 311919, 'itemname': 'Ankreuzen Aufgabenblatt 1', 'idnumber': 'k1', 'graderaw': None, 'grademin': 0, 'grademax': 5, 'gradeformatted': '-'}, {'id': 311925, 'itemname': 'Anwesenheit Ankreuzen Aufgabenblatt 1', 'idnumber': 'AAk1', 'graderaw': None, 'grademin': 0, 'grademax': 1, 'gradeformatted': '-'}, {'id': 311922, 'itemname': 'TL Ankreuzen Aufgabenblatt 1', 'idnumber': 'TLk1', 'graderaw': None, 'grademin': 0, 'grademax': 100, 'gradeformatted': '-'}, {'id': 311931, 'itemname': 'Ankreuzen Aufgabenblatt 2', 'idnumber': 'k2', 'graderaw': None, 'grademin': 0, 'grademax': 6, 'gradeformatted': '-'}, {'id': 311937, 'itemname': 'Anwesenheit Ankreuzen Aufgabenblatt 2', 'idnumber': 'AAk2', 'graderaw': None, 'grademin': 0, 'grademax': 1, 'gradeformatted': '-'}, {'id': 311934, 'itemname': 'TL Ankreuzen Aufgabenblatt 2', 'idnumber': 'TLk2', 'graderaw': None, 'grademin': 0, 'grademax': 100, 'gradeformatted': '-'}, {'id': 333357, 'itemname': 'Ankreuzen Designaufgabe', 'idnumber': 'd1', 'graderaw': None, 'grademin': 0, 'grademax': 2, 'gradeformatted': '-'}, {'id': 311943, 'itemname': 'Ankreuzen Aufgabenblatt 3', 'idnumber': 'k3', 'graderaw': None, 'grademin': 0, 'grademax': 6, 'gradeformatted': '-'}, {'id': 311949, 'itemname': 'Anwesenheit Ankreuzen Aufgabenblatt 3', 'idnumber': 'AAk3', 'graderaw': None, 'grademin': 0, 'grademax': 1, 'gradeformatted': '-'}, {'id': 311946, 'itemname': 'TL Ankreuzen Aufgabenblatt 3', 'idnumber': 'TLk3', 'graderaw': None, 'grademin': 0, 'grademax': 100, 'gradeformatted': '-'}, {'id': 311955, 'itemname': 'Ankreuzen Aufgabenblatt 4', 'idnumber': 'k4', 'graderaw': None, 'grademin': 0, 'grademax': 6, 'gradeformatted': '-'}, {'id': 311961, 'itemname': 'Anwesenheit Ankreuzen Aufgabenblatt 4', 'idnumber': 'AAk4', 'graderaw': None, 'grademin': 0, 'grademax': 1, 'gradeformatted': '-'}, {'id': 311958, 'itemname': 'TL Ankreuzen Aufgabenblatt 4', 'idnumber': 'TLk4', 'graderaw': None, 'grademin': 0, 'grademax': 100, 'gradeformatted': '-'}, {'id': 311967, 'itemname': 'Ankreuzen Aufgabenblatt 5', 'idnumber': 'k5', 'graderaw': None, 'grademin': 0, 'grademax': 6, 'gradeformatted': '-'}, {'id': 311973, 'itemname': 'Anwesenheit Ankreuzen Aufgabenblatt 5', 'idnumber': 'AAk5', 'graderaw': None, 'grademin': 0, 'grademax': 1, 'gradeformatted': '-'}, {'id': 311970, 'itemname': 'TL Ankreuzen Aufgabenblatt 5', 'idnumber': 'TLk5', 'graderaw': None, 'grademin': 0, 'grademax': 100, 'gradeformatted': '-'}, {'id': 311979, 'itemname': 'Ankreuzen Aufgabenblatt 6', 'idnumber': 'k6', 'graderaw': None, 'grademin': 0, 'grademax': 7, 'gradeformatted': '-'}, {'id': 311985, 'itemname': 'Anwesenheit Ankreuzen Aufgabenblatt 6', 'idnumber': 'AAk6', 'graderaw': None, 'grademin': 0, 'grademax': 1, 'gradeformatted': '-'}, {'id': 311982, 'itemname': 'TL Ankreuzen Aufgabenblatt 6', 'idnumber': 'TLk6', 'graderaw': None, 'grademin': 0, 'grademax': 100, 'gradeformatted': '-'}], 'unknown': [{'id': 312042, 'itemname': '', 'idnumber': 'sumtest_k2', 'graderaw': None, 'grademin': 0, 'grademax': 25, 'gradeformatted': '-'}, {'id': 333366, 'itemname': '', 'idnumber': 'sumtest_k3', 'graderaw': None, 'grademin': 0, 'grademax': 100, 'gradeformatted': '-'}, {'id': 312048, 'itemname': '', 'idnumber': '', 'graderaw': None, 'grademin': 0, 'grademax': 5, 'gradeformatted': '-'}, {'id': 312051, 'itemname': '', 'idnumber': '', 'graderaw': None, 'grademin': 0, 'grademax': 6, 'gradeformatted': '-'}, {'id': 333363, 'itemname': '', 'idnumber': '', 'graderaw': None, 'grademin': 0, 'grademax': 2, 'gradeformatted': '-'}, {'id': 312054, 'itemname': '', 'idnumber': '', 'graderaw': None, 'grademin': 0, 'grademax': 6, 'gradeformatted': '-'}, {'id': 312057, 'itemname': '', 'idnumber': '', 'graderaw': None, 'grademin': 0, 'grademax': 6, 'gradeformatted': '-'}, {'id': 312060, 'itemname': '', 'idnumber': '', 'graderaw': None, 'grademin': 0, 'grademax': 6, 'gradeformatted': '-'}, {'id': 312063, 'itemname': '', 'idnumber': '', 'graderaw': None, 'grademin': 0, 'grademax': 7, 'gradeformatted': '-'}, {'id': 312072, 'itemname': '', 'idnumber': '', 'graderaw': 0, 'grademin': 0, 'grademax': 10, 'gradeformatted': '0.00'}, {'id': 312069, 'itemname': '', 'idnumber': '', 'graderaw': 0, 'grademin': 0, 'grademax': 20, 'gradeformatted': '0.00'}, {'id': 312066, 'itemname': '', 'idnumber': '', 'graderaw': 0, 'grademin': 0, 'grademax': 30, 'gradeformatted': '0.00'}, {'id': 312045, 'itemname': '', 'idnumber': 'sumue', 'graderaw': 0, 'grademin': 0, 'grademax': 100, 'gradeformatted': '0.00'}, {'id': 311898, 'itemname': '', 'idnumber': '', 'graderaw': 0, 'grademin': 0, 'grademax': 100, 'gradeformatted': '0.00 (-)'}]}])\n",
      "student 164856 @ 2021W is missing: {'idnumber'} -> dict_values([164856, 1639568450, 'Male', False, [{'id': 40257, 'idnumber': '185A91-2021W', 'fullname': '185.A91 Einführung in die Programmierung 1 (VU 4,0) 2021W', 'enrolledusercount': 714, 'enablecompletion': False, 'completionhascriteria': False, 'completionusertracked': False, 'progress': None, 'completed': None, 'startdate': 1631613600, 'enddate': 0, 'marker': 0, 'lastaccess': 1641851067}], {'assign': [{'id': 311904, 'itemname': 'Einstufungstest Kompetenzstufe 2', 'idnumber': 'einstufungstest_k2', 'graderaw': None, 'grademin': 0, 'grademax': 25, 'gradeformatted': '-'}, {'id': 312078, 'itemname': 'Programmiertest Kompetenzstufe 3', 'idnumber': 'programmiertest_k3', 'graderaw': None, 'grademin': 0, 'grademax': 60, 'gradeformatted': '-'}, {'id': 311910, 'itemname': 'Ueben 1', 'idnumber': 'fue1', 'graderaw': None, 'grademin': 0, 'grademax': 1, 'gradeformatted': '-'}, {'id': 311913, 'itemname': 'Ueben 2', 'idnumber': 'fue2', 'graderaw': None, 'grademin': 0, 'grademax': 1, 'gradeformatted': '-'}, {'id': 312036, 'itemname': 'Programmiertest 27.01.', 'idnumber': 'pt', 'graderaw': None, 'grademin': 0, 'grademax': 30, 'gradeformatted': '-'}, {'id': 312039, 'itemname': 'Programmiertest 10.02.', 'idnumber': '', 'graderaw': None, 'grademin': 0, 'grademax': 30, 'gradeformatted': '-'}, {'id': 311907, 'itemname': 'Mitarbeitspunkte', 'idnumber': 'ma', 'graderaw': None, 'grademin': 0, 'grademax': 5, 'gradeformatted': '-'}], 'quiz': [{'id': 333369, 'itemname': 'TUWEL-Test Kompetenzstufe 3', 'idnumber': 'tuwel_test_k3', 'graderaw': None, 'grademin': 0, 'grademax': 40, 'gradeformatted': '-'}, {'id': 312024, 'itemname': '1. TUWEL-Test (26.11., A)', 'idnumber': None, 'graderaw': None, 'grademin': 0, 'grademax': 10, 'gradeformatted': '-'}, {'id': 344346, 'itemname': '1. TUWEL-Test (26.11., B)', 'idnumber': None, 'graderaw': None, 'grademin': 0, 'grademax': 10, 'gradeformatted': '-'}, {'id': 344370, 'itemname': '1. TUWEL-Test (26.11., C)', 'idnumber': None, 'graderaw': None, 'grademin': 0, 'grademax': 10, 'gradeformatted': '-'}, {'id': 344376, 'itemname': '1. TUWEL-Test (26.11., D)', 'idnumber': None, 'graderaw': None, 'grademin': 0, 'grademax': 10, 'gradeformatted': '-'}, {'id': 312027, 'itemname': '1. TUWEL-Test (03.12., A)', 'idnumber': None, 'graderaw': None, 'grademin': 0, 'grademax': 10, 'gradeformatted': '-'}, {'id': 312030, 'itemname': '2. TUWEL-Test (13.01. A)', 'idnumber': 'tt', 'graderaw': None, 'grademin': 0, 'grademax': 20, 'gradeformatted': '-'}, {'id': 351319, 'itemname': '2. TUWEL-Test (13.01. B)', 'idnumber': None, 'graderaw': None, 'grademin': 0, 'grademax': 20, 'gradeformatted': '-'}, {'id': 312033, 'itemname': '2. TUWEL-Test (20.01. A)', 'idnumber': None, 'graderaw': None, 'grademin': 0, 'grademax': 20, 'gradeformatted': '-'}, {'id': 353983, 'itemname': '2. TUWEL-Test (20.01. B)', 'idnumber': None, 'graderaw': None, 'grademin': 0, 'grademax': 20, 'gradeformatted': '-'}], 'checkmark': [{'id': 311919, 'itemname': 'Ankreuzen Aufgabenblatt 1', 'idnumber': 'k1', 'graderaw': None, 'grademin': 0, 'grademax': 5, 'gradeformatted': '-'}, {'id': 311925, 'itemname': 'Anwesenheit Ankreuzen Aufgabenblatt 1', 'idnumber': 'AAk1', 'graderaw': None, 'grademin': 0, 'grademax': 1, 'gradeformatted': '-'}, {'id': 311922, 'itemname': 'TL Ankreuzen Aufgabenblatt 1', 'idnumber': 'TLk1', 'graderaw': None, 'grademin': 0, 'grademax': 100, 'gradeformatted': '-'}, {'id': 311931, 'itemname': 'Ankreuzen Aufgabenblatt 2', 'idnumber': 'k2', 'graderaw': None, 'grademin': 0, 'grademax': 6, 'gradeformatted': '-'}, {'id': 311937, 'itemname': 'Anwesenheit Ankreuzen Aufgabenblatt 2', 'idnumber': 'AAk2', 'graderaw': None, 'grademin': 0, 'grademax': 1, 'gradeformatted': '-'}, {'id': 311934, 'itemname': 'TL Ankreuzen Aufgabenblatt 2', 'idnumber': 'TLk2', 'graderaw': None, 'grademin': 0, 'grademax': 100, 'gradeformatted': '-'}, {'id': 333357, 'itemname': 'Ankreuzen Designaufgabe', 'idnumber': 'd1', 'graderaw': None, 'grademin': 0, 'grademax': 2, 'gradeformatted': '-'}, {'id': 311943, 'itemname': 'Ankreuzen Aufgabenblatt 3', 'idnumber': 'k3', 'graderaw': None, 'grademin': 0, 'grademax': 6, 'gradeformatted': '-'}, {'id': 311949, 'itemname': 'Anwesenheit Ankreuzen Aufgabenblatt 3', 'idnumber': 'AAk3', 'graderaw': None, 'grademin': 0, 'grademax': 1, 'gradeformatted': '-'}, {'id': 311946, 'itemname': 'TL Ankreuzen Aufgabenblatt 3', 'idnumber': 'TLk3', 'graderaw': None, 'grademin': 0, 'grademax': 100, 'gradeformatted': '-'}, {'id': 311955, 'itemname': 'Ankreuzen Aufgabenblatt 4', 'idnumber': 'k4', 'graderaw': None, 'grademin': 0, 'grademax': 6, 'gradeformatted': '-'}, {'id': 311961, 'itemname': 'Anwesenheit Ankreuzen Aufgabenblatt 4', 'idnumber': 'AAk4', 'graderaw': None, 'grademin': 0, 'grademax': 1, 'gradeformatted': '-'}, {'id': 311958, 'itemname': 'TL Ankreuzen Aufgabenblatt 4', 'idnumber': 'TLk4', 'graderaw': None, 'grademin': 0, 'grademax': 100, 'gradeformatted': '-'}, {'id': 311967, 'itemname': 'Ankreuzen Aufgabenblatt 5', 'idnumber': 'k5', 'graderaw': None, 'grademin': 0, 'grademax': 6, 'gradeformatted': '-'}, {'id': 311973, 'itemname': 'Anwesenheit Ankreuzen Aufgabenblatt 5', 'idnumber': 'AAk5', 'graderaw': None, 'grademin': 0, 'grademax': 1, 'gradeformatted': '-'}, {'id': 311970, 'itemname': 'TL Ankreuzen Aufgabenblatt 5', 'idnumber': 'TLk5', 'graderaw': None, 'grademin': 0, 'grademax': 100, 'gradeformatted': '-'}, {'id': 311979, 'itemname': 'Ankreuzen Aufgabenblatt 6', 'idnumber': 'k6', 'graderaw': None, 'grademin': 0, 'grademax': 7, 'gradeformatted': '-'}, {'id': 311985, 'itemname': 'Anwesenheit Ankreuzen Aufgabenblatt 6', 'idnumber': 'AAk6', 'graderaw': None, 'grademin': 0, 'grademax': 1, 'gradeformatted': '-'}, {'id': 311982, 'itemname': 'TL Ankreuzen Aufgabenblatt 6', 'idnumber': 'TLk6', 'graderaw': None, 'grademin': 0, 'grademax': 100, 'gradeformatted': '-'}], 'unknown': [{'id': 312042, 'itemname': '', 'idnumber': 'sumtest_k2', 'graderaw': None, 'grademin': 0, 'grademax': 25, 'gradeformatted': '-'}, {'id': 333366, 'itemname': '', 'idnumber': 'sumtest_k3', 'graderaw': None, 'grademin': 0, 'grademax': 100, 'gradeformatted': '-'}, {'id': 312048, 'itemname': '', 'idnumber': '', 'graderaw': None, 'grademin': 0, 'grademax': 5, 'gradeformatted': '-'}, {'id': 312051, 'itemname': '', 'idnumber': '', 'graderaw': None, 'grademin': 0, 'grademax': 6, 'gradeformatted': '-'}, {'id': 333363, 'itemname': '', 'idnumber': '', 'graderaw': None, 'grademin': 0, 'grademax': 2, 'gradeformatted': '-'}, {'id': 312054, 'itemname': '', 'idnumber': '', 'graderaw': None, 'grademin': 0, 'grademax': 6, 'gradeformatted': '-'}, {'id': 312057, 'itemname': '', 'idnumber': '', 'graderaw': None, 'grademin': 0, 'grademax': 6, 'gradeformatted': '-'}, {'id': 312060, 'itemname': '', 'idnumber': '', 'graderaw': None, 'grademin': 0, 'grademax': 6, 'gradeformatted': '-'}, {'id': 312063, 'itemname': '', 'idnumber': '', 'graderaw': None, 'grademin': 0, 'grademax': 7, 'gradeformatted': '-'}, {'id': 312072, 'itemname': '', 'idnumber': '', 'graderaw': 0, 'grademin': 0, 'grademax': 10, 'gradeformatted': '0.00'}, {'id': 312069, 'itemname': '', 'idnumber': '', 'graderaw': 0, 'grademin': 0, 'grademax': 20, 'gradeformatted': '0.00'}, {'id': 312066, 'itemname': '', 'idnumber': '', 'graderaw': 0, 'grademin': 0, 'grademax': 30, 'gradeformatted': '0.00'}, {'id': 312045, 'itemname': '', 'idnumber': 'sumue', 'graderaw': 0, 'grademin': 0, 'grademax': 100, 'gradeformatted': '0.00'}, {'id': 311898, 'itemname': '', 'idnumber': '', 'graderaw': 0, 'grademin': 0, 'grademax': 100, 'gradeformatted': '0.00 (-)'}]}])\n"
     ]
    }
   ],
   "source": [
    "import json\n",
    "from pathlib import Path\n",
    "import glob\n",
    "\n",
    "datapath = Path.cwd().parent / \"data\"\n",
    "filepaths = glob.glob(str(datapath / \"*.json\"))\n",
    "assert all(Path(filepath).exists() for filepath in filepaths)\n",
    "\n",
    "\n",
    "for fp in filepaths:\n",
    "    term = Path(fp).stem\n",
    "    term_data = json.loads(Path(fp).read_text())\n",
    "\n",
    "    for student in term_data:\n",
    "        # top layer keys\n",
    "        expected = ['id', 'idnumber', 'firstaccess', 'sex', 'passed', 'enrolled_courses', 'grades']\n",
    "        if not all(k in student for k in expected):\n",
    "            print(f\"student {student['id']} @ {term} is missing: {set(expected) - set(student.keys())}\")\n",
    "\n",
    "        # enrolled_courses keys\n",
    "        expected = ['id', 'idnumber', 'fullname', 'enrolledusercount', 'enablecompletion', 'completionhascriteria', 'completionusertracked', 'progress', 'completed', 'startdate', 'enddate', 'marker', 'lastaccess']\n",
    "        for course in student['enrolled_courses']:\n",
    "            if not all(k in course for k in expected):\n",
    "                print(f\"student {student['id']} @ {term} is missing: {set(expected) - set(course.keys())}\")\n",
    "        \n",
    "        expected = ['quiz', 'assign', 'checkmark', 'organizer', 'unknown'] # -> missing in a lot of students\n",
    "        # if not all(k in student['grades'] for k in expected):\n",
    "            # print(f\"student {student['id']} @ {term} is missing: {set(expected) - set(student['grades'].keys())}\")\n",
    "        "
   ]
  },
  {
   "cell_type": "markdown",
   "metadata": {},
   "source": [
    "## the firstaccess column is useless"
   ]
  },
  {
   "cell_type": "code",
   "execution_count": 3,
   "metadata": {},
   "outputs": [
    {
     "name": "stdout",
     "output_type": "stream",
     "text": [
      "1970-01-01 01:00:00 -> 2019-07-11 20:41:24\n",
      "1970-01-01 01:00:00 -> 2018-03-07 11:30:02\n",
      "2007-10-06 22:01:31 -> 2018-10-07 22:19:23\n",
      "2006-03-20 14:41:49 -> 2019-03-06 21:50:02\n",
      "2007-05-04 15:44:07 -> 2020-02-27 16:36:38\n",
      "2006-03-20 14:41:49 -> 2020-03-09 20:20:10\n",
      "2006-03-20 14:41:49 -> 2020-11-19 12:45:38\n",
      "1970-01-01 01:00:00 -> 2021-03-18 17:51:09\n",
      "2006-03-20 14:41:49 -> 2021-11-20 11:09:27\n",
      "2006-03-20 14:41:49 -> 2022-03-03 12:13:34\n",
      "1970-01-01 01:00:00 -> 2022-10-17 09:38:16\n",
      "2006-03-20 14:41:49 -> 2023-03-30 14:55:45\n",
      "2006-03-02 17:10:23 -> 2023-10-29 17:41:08\n",
      "2008-10-08 10:40:52 -> 2024-03-18 18:42:19\n"
     ]
    }
   ],
   "source": [
    "import datetime\n",
    "from preprocess import get_term, TERMS\n",
    "\n",
    "\n",
    "for term in TERMS:\n",
    "    students = get_term(term)\n",
    "    time_access = [int(s[\"firstaccess\"]) for s in students]\n",
    "    min_time = min(time_access)\n",
    "    max_time = max(time_access)\n",
    "    print(f\"{datetime.datetime.fromtimestamp(min_time)} -> {datetime.datetime.fromtimestamp(max_time)}\")"
   ]
  },
  {
   "cell_type": "code",
   "execution_count": null,
   "metadata": {},
   "outputs": [],
   "source": []
  }
 ],
 "metadata": {
  "kernelspec": {
   "display_name": "Python 3",
   "language": "python",
   "name": "python3"
  },
  "language_info": {
   "codemirror_mode": {
    "name": "ipython",
    "version": 3
   },
   "file_extension": ".py",
   "mimetype": "text/x-python",
   "name": "python",
   "nbconvert_exporter": "python",
   "pygments_lexer": "ipython3",
   "version": "3.11.9"
  }
 },
 "nbformat": 4,
 "nbformat_minor": 2
}
